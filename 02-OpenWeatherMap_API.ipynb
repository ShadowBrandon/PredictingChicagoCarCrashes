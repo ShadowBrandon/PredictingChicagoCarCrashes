{
 "cells": [
  {
   "cell_type": "code",
   "execution_count": 1,
   "metadata": {},
   "outputs": [],
   "source": [
    "import pickle\n",
    "import numpy as np\n",
    "import pprint\n",
    "\n",
    "import pandas as pd\n",
    "import datetime \n",
    "import time\n",
    "\n",
    "import requests"
   ]
  },
  {
   "cell_type": "code",
   "execution_count": 9,
   "metadata": {},
   "outputs": [],
   "source": [
    "CRASH_DATE_ADJ = pd.date_range('07/02/15 13:00:00', '09/04/18 14:00:00', freq='H')"
   ]
  },
  {
   "cell_type": "code",
   "execution_count": 10,
   "metadata": {},
   "outputs": [
    {
     "data": {
      "text/plain": [
       "DatetimeIndex(['2015-07-02 13:00:00', '2015-07-02 14:00:00',\n",
       "               '2015-07-02 15:00:00', '2015-07-02 16:00:00',\n",
       "               '2015-07-02 17:00:00', '2015-07-02 18:00:00',\n",
       "               '2015-07-02 19:00:00', '2015-07-02 20:00:00',\n",
       "               '2015-07-02 21:00:00', '2015-07-02 22:00:00',\n",
       "               ...\n",
       "               '2018-09-04 05:00:00', '2018-09-04 06:00:00',\n",
       "               '2018-09-04 07:00:00', '2018-09-04 08:00:00',\n",
       "               '2018-09-04 09:00:00', '2018-09-04 10:00:00',\n",
       "               '2018-09-04 11:00:00', '2018-09-04 12:00:00',\n",
       "               '2018-09-04 13:00:00', '2018-09-04 14:00:00'],\n",
       "              dtype='datetime64[ns]', length=27842, freq='H')"
      ]
     },
     "execution_count": 10,
     "metadata": {},
     "output_type": "execute_result"
    }
   ],
   "source": [
    "CRASH_DATE_ADJ"
   ]
  },
  {
   "cell_type": "code",
   "execution_count": 25,
   "metadata": {},
   "outputs": [],
   "source": [
    "with open('Lat_Long_Search.pkl', 'rb') as picklefile:\n",
    "    tot_Beat = pickle.load(picklefile)"
   ]
  },
  {
   "cell_type": "code",
   "execution_count": 15,
   "metadata": {},
   "outputs": [],
   "source": [
    "with open('unix_time.pkl', 'wb') as picklefile:\n",
    "    pickle.dump(unix_time, picklefile)"
   ]
  },
  {
   "cell_type": "code",
   "execution_count": 39,
   "metadata": {},
   "outputs": [
    {
     "name": "stdout",
     "output_type": "stream",
     "text": [
      "41.88555974648804\n",
      "-87.62725421749394\n"
     ]
    }
   ],
   "source": [
    "print(tot_Beat[0].split(' ')[0][:-1]) #latitude\n",
    "print(tot_Beat[0].split(' ')[1])    #longitude\n"
   ]
  },
  {
   "cell_type": "code",
   "execution_count": 78,
   "metadata": {},
   "outputs": [],
   "source": [
    "#print(list(CRASH_DATE_ADJ.astype(np.int64) // 10**9))"
   ]
  },
  {
   "cell_type": "code",
   "execution_count": 79,
   "metadata": {},
   "outputs": [],
   "source": [
    "#print(len(tot_Beat))\n",
    "#print(len(unix_time))"
   ]
  },
  {
   "cell_type": "code",
   "execution_count": 13,
   "metadata": {},
   "outputs": [],
   "source": [
    "CRASH_DATE_ADJ = pd.to_datetime(CRASH_DATE_ADJ)\n",
    "index = pd.DatetimeIndex(CRASH_DATE_ADJ)\n",
    "unix_time = list(index.astype(np.int64) // 10**9)"
   ]
  },
  {
   "cell_type": "code",
   "execution_count": 46,
   "metadata": {},
   "outputs": [],
   "source": [
    "i = 5\n",
    "j = 8"
   ]
  },
  {
   "cell_type": "code",
   "execution_count": 52,
   "metadata": {},
   "outputs": [
    {
     "data": {
      "text/plain": [
       "'hi 5 8'"
      ]
     },
     "execution_count": 52,
     "metadata": {},
     "output_type": "execute_result"
    }
   ],
   "source": [
    "'hi %s %s'% (i , j)"
   ]
  },
  {
   "cell_type": "code",
   "execution_count": 54,
   "metadata": {},
   "outputs": [],
   "source": [
    "lat = 1\n",
    "long = 2\n",
    "strt = 3\n",
    "finish = 4\n",
    "\n",
    "\n",
    "url_base = 'http://history.openweathermap.org/data/2.5/history/city?lat=%s&lon=%s&type=hour&start=%s&end=%s' % (lat, long, strt, finish)"
   ]
  },
  {
   "cell_type": "code",
   "execution_count": 55,
   "metadata": {},
   "outputs": [
    {
     "name": "stdout",
     "output_type": "stream",
     "text": [
      "http://history.openweathermap.org/data/2.5/history/city?lat=1&lon=2&type=hour&start=3&end=4\n"
     ]
    }
   ],
   "source": [
    "print (url_base)"
   ]
  },
  {
   "cell_type": "code",
   "execution_count": 77,
   "metadata": {},
   "outputs": [
    {
     "name": "stdout",
     "output_type": "stream",
     "text": [
      "http://history.openweathermap.org/data/2.5/history/city?lat=41.88555974648804&lon=-87.62725421749394&type=hour&start=1435842000&end=1536069600\n",
      "http://history.openweathermap.org/data/2.5/history/city?lat=41.88143481865543&lon=-87.62712561073542&type=hour&start=1435842000&end=1536069600\n",
      "http://history.openweathermap.org/data/2.5/history/city?lat=41.87751062763581&lon=-87.62718196659732&type=hour&start=1435842000&end=1536069600\n",
      "http://history.openweathermap.org/data/2.5/history/city?lat=41.88121053588868&lon=-87.62018591235864&type=hour&start=1435842000&end=1536069600\n",
      "http://history.openweathermap.org/data/2.5/history/city?lat=41.881235628268406&lon=-87.64121485624034&type=hour&start=1435842000&end=1536069600\n",
      "http://history.openweathermap.org/data/2.5/history/city?lat=41.881792460751676&lon=-87.63415973877451&type=hour&start=1435842000&end=1536069600\n",
      "http://history.openweathermap.org/data/2.5/history/city?lat=41.872403228754976&lon=-87.62839559557496&type=hour&start=1435842000&end=1536069600\n",
      "http://history.openweathermap.org/data/2.5/history/city?lat=41.868940379801124&lon=-87.64063803247927&type=hour&start=1435842000&end=1536069600\n",
      "http://history.openweathermap.org/data/2.5/history/city?lat=41.85886944059813&lon=-87.62707256627479&type=hour&start=1435842000&end=1536069600\n",
      "http://history.openweathermap.org/data/2.5/history/city?lat=41.85930974492429&lon=-87.61901070546564&type=hour&start=1435842000&end=1536069600\n",
      "http://history.openweathermap.org/data/2.5/history/city?lat=41.84354043848598&lon=-87.61948635764068&type=hour&start=1435842000&end=1536069600\n",
      "http://history.openweathermap.org/data/2.5/history/city?lat=41.83509765711188&lon=-87.61822804200307&type=hour&start=1435842000&end=1536069600\n",
      "http://history.openweathermap.org/data/2.5/history/city?lat=41.8276171917048&lon=-87.61398679413715&type=hour&start=1435842000&end=1536069600\n",
      "http://history.openweathermap.org/data/2.5/history/city?lat=41.823275898050305&lon=-87.62440631918246&type=hour&start=1435842000&end=1536069600\n",
      "http://history.openweathermap.org/data/2.5/history/city?lat=41.82048226954716&lon=-87.60788685313203&type=hour&start=1435842000&end=1536069600\n",
      "http://history.openweathermap.org/data/2.5/history/city?lat=41.81291442096155&lon=-87.62335167983512&type=hour&start=1435842000&end=1536069600\n",
      "http://history.openweathermap.org/data/2.5/history/city?lat=41.812458641115676&lon=-87.61005957376027&type=hour&start=1435842000&end=1536069600\n",
      "http://history.openweathermap.org/data/2.5/history/city?lat=41.80863433656253&lon=-87.59318295811005&type=hour&start=1435842000&end=1536069600\n",
      "http://history.openweathermap.org/data/2.5/history/city?lat=41.80685328982145&lon=-87.60942760007657&type=hour&start=1435842000&end=1536069600\n",
      "http://history.openweathermap.org/data/2.5/history/city?lat=41.806760337493905&lon=-87.62331418218672&type=hour&start=1435842000&end=1536069600\n",
      "http://history.openweathermap.org/data/2.5/history/city?lat=41.795531014399046&lon=-87.62760745231772&type=hour&start=1435842000&end=1536069600\n",
      "http://history.openweathermap.org/data/2.5/history/city?lat=41.796673428303855&lon=-87.61919997530036&type=hour&start=1435842000&end=1536069600\n",
      "http://history.openweathermap.org/data/2.5/history/city?lat=41.78828673937503&lon=-87.62233232991666&type=hour&start=1435842000&end=1536069600\n",
      "http://history.openweathermap.org/data/2.5/history/city?lat=41.795296593188404&lon=-87.60627853824016&type=hour&start=1435842000&end=1536069600\n",
      "http://history.openweathermap.org/data/2.5/history/city?lat=41.79938822593711&lon=-87.58820553352193&type=hour&start=1435842000&end=1536069600\n",
      "http://history.openweathermap.org/data/2.5/history/city?lat=41.79125021911318&lon=-87.59385039567918&type=hour&start=1435842000&end=1536069600\n",
      "http://history.openweathermap.org/data/2.5/history/city?lat=41.78205605744066&lon=-87.62239766474926&type=hour&start=1435842000&end=1536069600\n",
      "http://history.openweathermap.org/data/2.5/history/city?lat=41.77835211333331&lon=-87.61610276578637&type=hour&start=1435842000&end=1536069600\n",
      "http://history.openweathermap.org/data/2.5/history/city?lat=41.78228004552696&lon=-87.60907666632389&type=hour&start=1435842000&end=1536069600\n",
      "http://history.openweathermap.org/data/2.5/history/city?lat=41.780993767033515&lon=-87.59271055222499&type=hour&start=1435842000&end=1536069600\n",
      "http://history.openweathermap.org/data/2.5/history/city?lat=41.77317281261674&lon=-87.60083769000006&type=hour&start=1435842000&end=1536069600\n",
      "http://history.openweathermap.org/data/2.5/history/city?lat=41.76944966278489&lon=-87.61900886856965&type=hour&start=1435842000&end=1536069600\n",
      "http://history.openweathermap.org/data/2.5/history/city?lat=41.762143242738595&lon=-87.61401051769514&type=hour&start=1435842000&end=1536069600\n",
      "http://history.openweathermap.org/data/2.5/history/city?lat=41.76292147859791&lon=-87.58803697017406&type=hour&start=1435842000&end=1536069600\n",
      "http://history.openweathermap.org/data/2.5/history/city?lat=41.77845817298706&lon=-87.57650976457994&type=hour&start=1435842000&end=1536069600\n",
      "http://history.openweathermap.org/data/2.5/history/city?lat=41.77033433638116&lon=-87.58329157325691&type=hour&start=1435842000&end=1536069600\n",
      "http://history.openweathermap.org/data/2.5/history/city?lat=41.76352613036193&lon=-87.57555334727628&type=hour&start=1435842000&end=1536069600\n",
      "http://history.openweathermap.org/data/2.5/history/city?lat=41.763606281692674&lon=-87.56403568956513&type=hour&start=1435842000&end=1536069600\n",
      "http://history.openweathermap.org/data/2.5/history/city?lat=41.75285619432926&lon=-87.58758671814081&type=hour&start=1435842000&end=1536069600\n",
      "http://history.openweathermap.org/data/2.5/history/city?lat=41.73857872940705&lon=-87.58331350132657&type=hour&start=1435842000&end=1536069600\n",
      "http://history.openweathermap.org/data/2.5/history/city?lat=41.726401818853084&lon=-87.58209976777769&type=hour&start=1435842000&end=1536069600\n",
      "http://history.openweathermap.org/data/2.5/history/city?lat=41.75239141094575&lon=-87.57560964855817&type=hour&start=1435842000&end=1536069600\n",
      "http://history.openweathermap.org/data/2.5/history/city?lat=41.75578967681323&lon=-87.55944717545053&type=hour&start=1435842000&end=1536069600\n",
      "http://history.openweathermap.org/data/2.5/history/city?lat=41.750378562786096&lon=-87.55609519532332&type=hour&start=1435842000&end=1536069600\n",
      "http://history.openweathermap.org/data/2.5/history/city?lat=41.73462863620965&lon=-87.55786338991943&type=hour&start=1435842000&end=1536069600\n",
      "http://history.openweathermap.org/data/2.5/history/city?lat=41.732539500766656&lon=-87.54746921729999&type=hour&start=1435842000&end=1536069600\n",
      "http://history.openweathermap.org/data/2.5/history/city?lat=41.718042896208466&lon=-87.56946184172196&type=hour&start=1435842000&end=1536069600\n",
      "http://history.openweathermap.org/data/2.5/history/city?lat=41.70857591266664&lon=-87.53533778941461&type=hour&start=1435842000&end=1536069600\n",
      "http://history.openweathermap.org/data/2.5/history/city?lat=41.66798766607653&lon=-87.54414013337322&type=hour&start=1435842000&end=1536069600\n",
      "http://history.openweathermap.org/data/2.5/history/city?lat=41.686737804472465&lon=-87.56791079341738&type=hour&start=1435842000&end=1536069600\n",
      "http://history.openweathermap.org/data/2.5/history/city?lat=41.716108901979574&lon=-87.61170309557833&type=hour&start=1435842000&end=1536069600\n",
      "http://history.openweathermap.org/data/2.5/history/city?lat=41.70514170205013&lon=-87.61564581184511&type=hour&start=1435842000&end=1536069600\n",
      "http://history.openweathermap.org/data/2.5/history/city?lat=41.69576197521419&lon=-87.61288367480446&type=hour&start=1435842000&end=1536069600\n",
      "http://history.openweathermap.org/data/2.5/history/city?lat=41.685681288785396&lon=-87.62750227526323&type=hour&start=1435842000&end=1536069600\n",
      "http://history.openweathermap.org/data/2.5/history/city?lat=41.6657499448954&lon=-87.63639841583701&type=hour&start=1435842000&end=1536069600\n",
      "http://history.openweathermap.org/data/2.5/history/city?lat=41.679606600183824&lon=-87.64756270167277&type=hour&start=1435842000&end=1536069600\n",
      "http://history.openweathermap.org/data/2.5/history/city?lat=41.68943947295189&lon=-87.61303712322656&type=hour&start=1435842000&end=1536069600\n",
      "http://history.openweathermap.org/data/2.5/history/city?lat=41.67389572632595&lon=-87.61558560552496&type=hour&start=1435842000&end=1536069600\n",
      "http://history.openweathermap.org/data/2.5/history/city?lat=41.65566378320136&lon=-87.60828573075914&type=hour&start=1435842000&end=1536069600\n",
      "http://history.openweathermap.org/data/2.5/history/city?lat=41.75169490890151&lon=-87.66821980829545&type=hour&start=1435842000&end=1536069600\n",
      "http://history.openweathermap.org/data/2.5/history/city?lat=41.752543250434734&lon=-87.65605437352848&type=hour&start=1435842000&end=1536069600\n",
      "http://history.openweathermap.org/data/2.5/history/city?lat=41.74060469861872&lon=-87.64910113873536&type=hour&start=1435842000&end=1536069600\n",
      "http://history.openweathermap.org/data/2.5/history/city?lat=41.74077032479079&lon=-87.66675502851143&type=hour&start=1435842000&end=1536069600\n",
      "http://history.openweathermap.org/data/2.5/history/city?lat=41.75253304052123&lon=-87.64191309302817&type=hour&start=1435842000&end=1536069600\n",
      "http://history.openweathermap.org/data/2.5/history/city?lat=41.74055590685468&lon=-87.63261098846337&type=hour&start=1435842000&end=1536069600\n",
      "http://history.openweathermap.org/data/2.5/history/city?lat=41.753995186254116&lon=-87.62389399070871&type=hour&start=1435842000&end=1536069600\n",
      "http://history.openweathermap.org/data/2.5/history/city?lat=41.75406360015785&lon=-87.60663463328089&type=hour&start=1435842000&end=1536069600\n",
      "http://history.openweathermap.org/data/2.5/history/city?lat=41.74587421677779&lon=-87.6091279412593&type=hour&start=1435842000&end=1536069600\n",
      "http://history.openweathermap.org/data/2.5/history/city?lat=41.7382391556746&lon=-87.61247396792362&type=hour&start=1435842000&end=1536069600\n",
      "http://history.openweathermap.org/data/2.5/history/city?lat=41.72674020746835&lon=-87.60969053892408&type=hour&start=1435842000&end=1536069600\n",
      "http://history.openweathermap.org/data/2.5/history/city?lat=41.730284300915315&lon=-87.62668283231443&type=hour&start=1435842000&end=1536069600\n",
      "http://history.openweathermap.org/data/2.5/history/city?lat=41.786668791531675&lon=-87.63693569176039&type=hour&start=1435842000&end=1536069600\n",
      "http://history.openweathermap.org/data/2.5/history/city?lat=41.78633124333335&lon=-87.64925304930183&type=hour&start=1435842000&end=1536069600\n",
      "http://history.openweathermap.org/data/2.5/history/city?lat=41.786091376415946&lon=-87.65977616590706&type=hour&start=1435842000&end=1536069600\n",
      "http://history.openweathermap.org/data/2.5/history/city?lat=41.783001938205125&lon=-87.66880750141038&type=hour&start=1435842000&end=1536069600\n",
      "http://history.openweathermap.org/data/2.5/history/city?lat=41.790913859064474&lon=-87.66991186780658&type=hour&start=1435842000&end=1536069600\n",
      "http://history.openweathermap.org/data/2.5/history/city?lat=41.774521364133975&lon=-87.63214982004611&type=hour&start=1435842000&end=1536069600\n",
      "http://history.openweathermap.org/data/2.5/history/city?lat=41.7752805084112&lon=-87.64461437827102&type=hour&start=1435842000&end=1536069600\n",
      "http://history.openweathermap.org/data/2.5/history/city?lat=41.774672384554115&lon=-87.6534025334395&type=hour&start=1435842000&end=1536069600\n",
      "http://history.openweathermap.org/data/2.5/history/city?lat=41.77453165261371&lon=-87.66363800922346&type=hour&start=1435842000&end=1536069600\n",
      "http://history.openweathermap.org/data/2.5/history/city?lat=41.77456741624999&lon=-87.67355259528843&type=hour&start=1435842000&end=1536069600\n",
      "http://history.openweathermap.org/data/2.5/history/city?lat=41.76438313043004&lon=-87.62907826424743&type=hour&start=1435842000&end=1536069600\n",
      "http://history.openweathermap.org/data/2.5/history/city?lat=41.7642947206774&lon=-87.6397640289355&type=hour&start=1435842000&end=1536069600\n",
      "http://history.openweathermap.org/data/2.5/history/city?lat=41.76407507087378&lon=-87.64751149121356&type=hour&start=1435842000&end=1536069600\n",
      "http://history.openweathermap.org/data/2.5/history/city?lat=41.7640549784594&lon=-87.6586008460784&type=hour&start=1435842000&end=1536069600\n",
      "http://history.openweathermap.org/data/2.5/history/city?lat=41.7647507095499&lon=-87.66802717890644&type=hour&start=1435842000&end=1536069600\n",
      "http://history.openweathermap.org/data/2.5/history/city?lat=41.792637908043574&lon=-87.78245867002403&type=hour&start=1435842000&end=1536069600\n",
      "http://history.openweathermap.org/data/2.5/history/city?lat=41.77822626099831&lon=-87.77823794284252&type=hour&start=1435842000&end=1536069600\n",
      "http://history.openweathermap.org/data/2.5/history/city?lat=41.78392965674746&lon=-87.73490667166735&type=hour&start=1435842000&end=1536069600\n",
      "http://history.openweathermap.org/data/2.5/history/city?lat=41.80360816594961&lon=-87.74819394544446&type=hour&start=1435842000&end=1536069600\n",
      "http://history.openweathermap.org/data/2.5/history/city?lat=41.80533109506243&lon=-87.7309894300999&type=hour&start=1435842000&end=1536069600\n",
      "http://history.openweathermap.org/data/2.5/history/city?lat=41.80976607227945&lon=-87.71319721159998&type=hour&start=1435842000&end=1536069600\n",
      "http://history.openweathermap.org/data/2.5/history/city?lat=41.79252990274008&lon=-87.71214766269829&type=hour&start=1435842000&end=1536069600\n",
      "http://history.openweathermap.org/data/2.5/history/city?lat=41.77972789256621&lon=-87.70666846845587&type=hour&start=1435842000&end=1536069600\n",
      "http://history.openweathermap.org/data/2.5/history/city?lat=41.78952378466597&lon=-87.69212794595903&type=hour&start=1435842000&end=1536069600\n",
      "http://history.openweathermap.org/data/2.5/history/city?lat=41.780154073281004&lon=-87.68594086816753&type=hour&start=1435842000&end=1536069600\n",
      "http://history.openweathermap.org/data/2.5/history/city?lat=41.76902986431268&lon=-87.69904078109163&type=hour&start=1435842000&end=1536069600\n",
      "http://history.openweathermap.org/data/2.5/history/city?lat=41.76829883703911&lon=-87.68348616798114&type=hour&start=1435842000&end=1536069600\n",
      "http://history.openweathermap.org/data/2.5/history/city?lat=41.76515518723349&lon=-87.72830032861071&type=hour&start=1435842000&end=1536069600\n",
      "http://history.openweathermap.org/data/2.5/history/city?lat=41.743662078979995&lon=-87.72272444776505&type=hour&start=1435842000&end=1536069600\n",
      "http://history.openweathermap.org/data/2.5/history/city?lat=41.74930577627506&lon=-87.69282228654686&type=hour&start=1435842000&end=1536069600\n",
      "http://history.openweathermap.org/data/2.5/history/city?lat=41.82782707292806&lon=-87.69363007823462&type=hour&start=1435842000&end=1536069600\n",
      "http://history.openweathermap.org/data/2.5/history/city?lat=41.83227829753029&lon=-87.67213268662309&type=hour&start=1435842000&end=1536069600\n",
      "http://history.openweathermap.org/data/2.5/history/city?lat=41.839379658925964&lon=-87.65289410501842&type=hour&start=1435842000&end=1536069600\n",
      "http://history.openweathermap.org/data/2.5/history/city?lat=41.8488826581014&lon=-87.63606639378744&type=hour&start=1435842000&end=1536069600\n",
      "http://history.openweathermap.org/data/2.5/history/city?lat=41.831537846469615&lon=-87.64052439728438&type=hour&start=1435842000&end=1536069600\n",
      "http://history.openweathermap.org/data/2.5/history/city?lat=41.81965770175161&lon=-87.69373489445861&type=hour&start=1435842000&end=1536069600\n",
      "http://history.openweathermap.org/data/2.5/history/city?lat=41.81042760502105&lon=-87.69221125154057&type=hour&start=1435842000&end=1536069600\n",
      "http://history.openweathermap.org/data/2.5/history/city?lat=41.79813805732933&lon=-87.69199648534142&type=hour&start=1435842000&end=1536069600\n",
      "http://history.openweathermap.org/data/2.5/history/city?lat=41.81392894720064&lon=-87.66886181963947&type=hour&start=1435842000&end=1536069600\n",
      "http://history.openweathermap.org/data/2.5/history/city?lat=41.81568791116803&lon=-87.63970697782783&type=hour&start=1435842000&end=1536069600\n",
      "http://history.openweathermap.org/data/2.5/history/city?lat=41.80609340922654&lon=-87.67208256803866&type=hour&start=1435842000&end=1536069600\n",
      "http://history.openweathermap.org/data/2.5/history/city?lat=41.79706781273313&lon=-87.67261186794218&type=hour&start=1435842000&end=1536069600\n",
      "http://history.openweathermap.org/data/2.5/history/city?lat=41.80588115102879&lon=-87.657244448107&type=hour&start=1435842000&end=1536069600\n",
      "http://history.openweathermap.org/data/2.5/history/city?lat=41.79659077153062&lon=-87.65405755795922&type=hour&start=1435842000&end=1536069600\n",
      "http://history.openweathermap.org/data/2.5/history/city?lat=41.79832738742718&lon=-87.63540833543775&type=hour&start=1435842000&end=1536069600\n",
      "http://history.openweathermap.org/data/2.5/history/city?lat=41.864220643727805&lon=-87.72523114145962&type=hour&start=1435842000&end=1536069600\n",
      "http://history.openweathermap.org/data/2.5/history/city?lat=41.855642724289055&lon=-87.72998039473195&type=hour&start=1435842000&end=1536069600\n",
      "http://history.openweathermap.org/data/2.5/history/city?lat=41.848133304274064&lon=-87.72617089186984&type=hour&start=1435842000&end=1536069600\n",
      "http://history.openweathermap.org/data/2.5/history/city?lat=41.854895626464895&lon=-87.71971569065369&type=hour&start=1435842000&end=1536069600\n",
      "http://history.openweathermap.org/data/2.5/history/city?lat=41.86050896957241&lon=-87.71164114509875&type=hour&start=1435842000&end=1536069600\n",
      "http://history.openweathermap.org/data/2.5/history/city?lat=41.85869586319618&lon=-87.70274197537994&type=hour&start=1435842000&end=1536069600\n",
      "http://history.openweathermap.org/data/2.5/history/city?lat=41.85865924916667&lon=-87.6907754183805&type=hour&start=1435842000&end=1536069600\n",
      "http://history.openweathermap.org/data/2.5/history/city?lat=41.84956282330881&lon=-87.70958099193624&type=hour&start=1435842000&end=1536069600\n",
      "http://history.openweathermap.org/data/2.5/history/city?lat=41.83756024864978&lon=-87.72736156853388&type=hour&start=1435842000&end=1536069600\n",
      "http://history.openweathermap.org/data/2.5/history/city?lat=41.84007666979172&lon=-87.709297912125&type=hour&start=1435842000&end=1536069600\n",
      "http://history.openweathermap.org/data/2.5/history/city?lat=41.84483917322446&lon=-87.70027561416204&type=hour&start=1435842000&end=1536069600\n",
      "http://history.openweathermap.org/data/2.5/history/city?lat=41.847697024211556&lon=-87.68324246923827&type=hour&start=1435842000&end=1536069600\n",
      "http://history.openweathermap.org/data/2.5/history/city?lat=41.896391407219504&lon=-87.73598927006236&type=hour&start=1435842000&end=1536069600\n",
      "http://history.openweathermap.org/data/2.5/history/city?lat=41.89788908589913&lon=-87.72140104169748&type=hour&start=1435842000&end=1536069600\n",
      "http://history.openweathermap.org/data/2.5/history/city?lat=41.88208219115233&lon=-87.74081657828411&type=hour&start=1435842000&end=1536069600\n",
      "http://history.openweathermap.org/data/2.5/history/city?lat=41.884491799319555&lon=-87.72907850934908&type=hour&start=1435842000&end=1536069600\n",
      "http://history.openweathermap.org/data/2.5/history/city?lat=41.87963679321957&lon=-87.72969444134145&type=hour&start=1435842000&end=1536069600\n",
      "http://history.openweathermap.org/data/2.5/history/city?lat=41.89626394904908&lon=-87.71111319076694&type=hour&start=1435842000&end=1536069600\n",
      "http://history.openweathermap.org/data/2.5/history/city?lat=41.883567167628755&lon=-87.72196470758082&type=hour&start=1435842000&end=1536069600\n",
      "http://history.openweathermap.org/data/2.5/history/city?lat=41.883687251952786&lon=-87.71117952860511&type=hour&start=1435842000&end=1536069600\n",
      "http://history.openweathermap.org/data/2.5/history/city?lat=41.87842831958207&lon=-87.70267158576118&type=hour&start=1435842000&end=1536069600\n",
      "http://history.openweathermap.org/data/2.5/history/city?lat=41.878628003737376&lon=-87.6887257286364&type=hour&start=1435842000&end=1536069600\n",
      "http://history.openweathermap.org/data/2.5/history/city?lat=41.872401532403714&lon=-87.73920272726423&type=hour&start=1435842000&end=1536069600\n",
      "http://history.openweathermap.org/data/2.5/history/city?lat=41.87212015210527&lon=-87.72644900934662&type=hour&start=1435842000&end=1536069600\n",
      "http://history.openweathermap.org/data/2.5/history/city?lat=41.872088013901504&lon=-87.71695227240095&type=hour&start=1435842000&end=1536069600\n",
      "http://history.openweathermap.org/data/2.5/history/city?lat=41.871452993229916&lon=-87.70576426333943&type=hour&start=1435842000&end=1536069600\n",
      "http://history.openweathermap.org/data/2.5/history/city?lat=41.87168857571962&lon=-87.69215862830262&type=hour&start=1435842000&end=1536069600\n",
      "http://history.openweathermap.org/data/2.5/history/city?lat=41.898587601728664&lon=-87.69855703601749&type=hour&start=1435842000&end=1536069600\n",
      "http://history.openweathermap.org/data/2.5/history/city?lat=41.89913272401853&lon=-87.68123011394451&type=hour&start=1435842000&end=1536069600\n",
      "http://history.openweathermap.org/data/2.5/history/city?lat=41.89929062425559&lon=-87.66164079114911&type=hour&start=1435842000&end=1536069600\n",
      "http://history.openweathermap.org/data/2.5/history/city?lat=41.8899383614245&lon=-87.648631150187&type=hour&start=1435842000&end=1536069600\n",
      "http://history.openweathermap.org/data/2.5/history/city?lat=41.8908913405753&lon=-87.66327517379739&type=hour&start=1435842000&end=1536069600\n",
      "http://history.openweathermap.org/data/2.5/history/city?lat=41.89276253753571&lon=-87.68772545507122&type=hour&start=1435842000&end=1536069600\n",
      "http://history.openweathermap.org/data/2.5/history/city?lat=41.88392070151142&lon=-87.69680464354205&type=hour&start=1435842000&end=1536069600\n",
      "http://history.openweathermap.org/data/2.5/history/city?lat=41.88259466552063&lon=-87.68067124681872&type=hour&start=1435842000&end=1536069600\n",
      "http://history.openweathermap.org/data/2.5/history/city?lat=41.882774875346556&lon=-87.65652111798123&type=hour&start=1435842000&end=1536069600\n",
      "http://history.openweathermap.org/data/2.5/history/city?lat=41.87358858656515&lon=-87.67904325557858&type=hour&start=1435842000&end=1536069600\n",
      "http://history.openweathermap.org/data/2.5/history/city?lat=41.87297425660087&lon=-87.66649084400774&type=hour&start=1435842000&end=1536069600\n",
      "http://history.openweathermap.org/data/2.5/history/city?lat=41.872207068588345&lon=-87.64930952162807&type=hour&start=1435842000&end=1536069600\n",
      "http://history.openweathermap.org/data/2.5/history/city?lat=41.862614967595086&lon=-87.66763608318806&type=hour&start=1435842000&end=1536069600\n",
      "http://history.openweathermap.org/data/2.5/history/city?lat=41.85525004567972&lon=-87.6745602770257&type=hour&start=1435842000&end=1536069600\n",
      "http://history.openweathermap.org/data/2.5/history/city?lat=41.8555610200409&lon=-87.64916794117448&type=hour&start=1435842000&end=1536069600\n",
      "http://history.openweathermap.org/data/2.5/history/city?lat=41.9327728081393&lon=-87.69663958173507&type=hour&start=1435842000&end=1536069600\n",
      "http://history.openweathermap.org/data/2.5/history/city?lat=41.93371356132773&lon=-87.71177934371441&type=hour&start=1435842000&end=1536069600\n",
      "http://history.openweathermap.org/data/2.5/history/city?lat=41.922536303266234&lon=-87.71142691241612&type=hour&start=1435842000&end=1536069600\n",
      "http://history.openweathermap.org/data/2.5/history/city?lat=41.923662468959705&lon=-87.70142546307466&type=hour&start=1435842000&end=1536069600\n",
      "http://history.openweathermap.org/data/2.5/history/city?lat=41.91306011213043&lon=-87.70119420904352&type=hour&start=1435842000&end=1536069600\n",
      "http://history.openweathermap.org/data/2.5/history/city?lat=41.90973298324886&lon=-87.71173085748849&type=hour&start=1435842000&end=1536069600\n",
      "http://history.openweathermap.org/data/2.5/history/city?lat=41.906673751179184&lon=-87.69493088612248&type=hour&start=1435842000&end=1536069600\n",
      "http://history.openweathermap.org/data/2.5/history/city?lat=41.90701007665226&lon=-87.67694734739936&type=hour&start=1435842000&end=1536069600\n",
      "http://history.openweathermap.org/data/2.5/history/city?lat=41.92285557084872&lon=-87.69193462393004&type=hour&start=1435842000&end=1536069600\n",
      "http://history.openweathermap.org/data/2.5/history/city?lat=41.92427621095974&lon=-87.67993534888569&type=hour&start=1435842000&end=1536069600\n",
      "http://history.openweathermap.org/data/2.5/history/city?lat=41.90991831960301&lon=-87.665502300794&type=hour&start=1435842000&end=1536069600\n",
      "http://history.openweathermap.org/data/2.5/history/city?lat=41.91310406706584&lon=-87.68261343906597&type=hour&start=1435842000&end=1536069600\n",
      "http://history.openweathermap.org/data/2.5/history/city?lat=41.896611916086975&lon=-87.76999076485502&type=hour&start=1435842000&end=1536069600\n",
      "http://history.openweathermap.org/data/2.5/history/city?lat=41.88596754575297&lon=-87.76986085496146&type=hour&start=1435842000&end=1536069600\n",
      "http://history.openweathermap.org/data/2.5/history/city?lat=41.87480670446278&lon=-87.76951937761514&type=hour&start=1435842000&end=1536069600\n",
      "http://history.openweathermap.org/data/2.5/history/city?lat=41.876439669829814&lon=-87.75934477877873&type=hour&start=1435842000&end=1536069600\n",
      "http://history.openweathermap.org/data/2.5/history/city?lat=41.886096335846986&lon=-87.75996351579244&type=hour&start=1435842000&end=1536069600\n",
      "http://history.openweathermap.org/data/2.5/history/city?lat=41.896107935174676&lon=-87.76023767234601&type=hour&start=1435842000&end=1536069600\n",
      "http://history.openweathermap.org/data/2.5/history/city?lat=41.89738702891852&lon=-87.75032184023289&type=hour&start=1435842000&end=1536069600\n",
      "http://history.openweathermap.org/data/2.5/history/city?lat=41.886904133433084&lon=-87.74989878357484&type=hour&start=1435842000&end=1536069600\n",
      "http://history.openweathermap.org/data/2.5/history/city?lat=41.87551994149953&lon=-87.74863093850922&type=hour&start=1435842000&end=1536069600\n",
      "http://history.openweathermap.org/data/2.5/history/city?lat=41.999755881352606&lon=-87.797055587734&type=hour&start=1435842000&end=1536069600\n",
      "http://history.openweathermap.org/data/2.5/history/city?lat=41.9911663519322&lon=-87.8075982987795&type=hour&start=1435842000&end=1536069600\n",
      "http://history.openweathermap.org/data/2.5/history/city?lat=41.976961675321796&lon=-87.80130515121745&type=hour&start=1435842000&end=1536069600\n",
      "http://history.openweathermap.org/data/2.5/history/city?lat=41.9739993467026&lon=-87.83881117889061&type=hour&start=1435842000&end=1536069600\n",
      "http://history.openweathermap.org/data/2.5/history/city?lat=41.99280766646403&lon=-87.76096817908794&type=hour&start=1435842000&end=1536069600\n",
      "http://history.openweathermap.org/data/2.5/history/city?lat=41.974086610906284&lon=-87.77699114640616&type=hour&start=1435842000&end=1536069600\n",
      "http://history.openweathermap.org/data/2.5/history/city?lat=41.969923738485576&lon=-87.75875394953937&type=hour&start=1435842000&end=1536069600\n",
      "http://history.openweathermap.org/data/2.5/history/city?lat=41.95672079709304&lon=-87.76387790447677&type=hour&start=1435842000&end=1536069600\n",
      "http://history.openweathermap.org/data/2.5/history/city?lat=41.94509698313961&lon=-87.82058245048201&type=hour&start=1435842000&end=1536069600\n",
      "http://history.openweathermap.org/data/2.5/history/city?lat=41.94813634245671&lon=-87.79606025672078&type=hour&start=1435842000&end=1536069600\n",
      "http://history.openweathermap.org/data/2.5/history/city?lat=41.94530372648993&lon=-87.77226489738055&type=hour&start=1435842000&end=1536069600\n",
      "http://history.openweathermap.org/data/2.5/history/city?lat=41.945426575066634&lon=-87.75309174765921&type=hour&start=1435842000&end=1536069600\n",
      "http://history.openweathermap.org/data/2.5/history/city?lat=41.976201139999894&lon=-87.9053091299998&type=hour&start=1435842000&end=1536069600\n",
      "http://history.openweathermap.org/data/2.5/history/city?lat=41.9707594612&lon=-87.88848072120001&type=hour&start=1435842000&end=1536069600\n",
      "http://history.openweathermap.org/data/2.5/history/city?lat=41.99152021261554&lon=-87.72175975447269&type=hour&start=1435842000&end=1536069600\n",
      "http://history.openweathermap.org/data/2.5/history/city?lat=41.972864083713304&lon=-87.72536480847437&type=hour&start=1435842000&end=1536069600\n",
      "http://history.openweathermap.org/data/2.5/history/city?lat=41.96924917877777&lon=-87.70839842805563&type=hour&start=1435842000&end=1536069600\n",
      "http://history.openweathermap.org/data/2.5/history/city?lat=41.96027833918993&lon=-87.736037648596&type=hour&start=1435842000&end=1536069600\n",
      "http://history.openweathermap.org/data/2.5/history/city?lat=41.960514294725385&lon=-87.72090200104651&type=hour&start=1435842000&end=1536069600\n",
      "http://history.openweathermap.org/data/2.5/history/city?lat=41.95858707865697&lon=-87.70599763449619&type=hour&start=1435842000&end=1536069600\n",
      "http://history.openweathermap.org/data/2.5/history/city?lat=41.944908650418476&lon=-87.73729594416315&type=hour&start=1435842000&end=1536069600\n",
      "http://history.openweathermap.org/data/2.5/history/city?lat=41.9467556990534&lon=-87.72090528744152&type=hour&start=1435842000&end=1536069600\n",
      "http://history.openweathermap.org/data/2.5/history/city?lat=41.94570774718661&lon=-87.70588762788289&type=hour&start=1435842000&end=1536069600\n",
      "http://history.openweathermap.org/data/2.5/history/city?lat=41.919390819562295&lon=-87.65982999749336&type=hour&start=1435842000&end=1536069600\n",
      "http://history.openweathermap.org/data/2.5/history/city?lat=41.92194427529412&lon=-87.64615800912854&type=hour&start=1435842000&end=1536069600\n",
      "http://history.openweathermap.org/data/2.5/history/city?lat=41.913365491123564&lon=-87.64739929775281&type=hour&start=1435842000&end=1536069600\n",
      "http://history.openweathermap.org/data/2.5/history/city?lat=41.91586402477633&lon=-87.63257953447246&type=hour&start=1435842000&end=1536069600\n",
      "http://history.openweathermap.org/data/2.5/history/city?lat=41.90676887831175&lon=-87.63622690976909&type=hour&start=1435842000&end=1536069600\n",
      "http://history.openweathermap.org/data/2.5/history/city?lat=41.90556789529061&lon=-87.64890063345698&type=hour&start=1435842000&end=1536069600\n",
      "http://history.openweathermap.org/data/2.5/history/city?lat=41.89938790237468&lon=-87.63825332019613&type=hour&start=1435842000&end=1536069600\n",
      "http://history.openweathermap.org/data/2.5/history/city?lat=41.9035689301794&lon=-87.6274384705464&type=hour&start=1435842000&end=1536069600\n",
      "http://history.openweathermap.org/data/2.5/history/city?lat=41.89157632412084&lon=-87.6340717920162&type=hour&start=1435842000&end=1536069600\n",
      "http://history.openweathermap.org/data/2.5/history/city?lat=41.89508533888271&lon=-87.63107040777325&type=hour&start=1435842000&end=1536069600\n",
      "http://history.openweathermap.org/data/2.5/history/city?lat=41.89802199567544&lon=-87.62258767936515&type=hour&start=1435842000&end=1536069600\n",
      "http://history.openweathermap.org/data/2.5/history/city?lat=41.89237640748294&lon=-87.6213065025369&type=hour&start=1435842000&end=1536069600\n",
      "http://history.openweathermap.org/data/2.5/history/city?lat=41.96190718717969&lon=-87.687480284521&type=hour&start=1435842000&end=1536069600\n",
      "http://history.openweathermap.org/data/2.5/history/city?lat=41.96073466535181&lon=-87.6708643941379&type=hour&start=1435842000&end=1536069600\n",
      "http://history.openweathermap.org/data/2.5/history/city?lat=41.96524845311691&lon=-87.66081964603886&type=hour&start=1435842000&end=1536069600\n",
      "http://history.openweathermap.org/data/2.5/history/city?lat=41.96547408562281&lon=-87.65102128973311&type=hour&start=1435842000&end=1536069600\n",
      "http://history.openweathermap.org/data/2.5/history/city?lat=41.95764870427083&lon=-87.65055232069452&type=hour&start=1435842000&end=1536069600\n",
      "http://history.openweathermap.org/data/2.5/history/city?lat=41.94585835270171&lon=-87.68710454551348&type=hour&start=1435842000&end=1536069600\n",
      "http://history.openweathermap.org/data/2.5/history/city?lat=41.946869490547186&lon=-87.67032970712452&type=hour&start=1435842000&end=1536069600\n",
      "http://history.openweathermap.org/data/2.5/history/city?lat=41.95050093723683&lon=-87.65565108037596&type=hour&start=1435842000&end=1536069600\n",
      "http://history.openweathermap.org/data/2.5/history/city?lat=41.9433411692714&lon=-87.65437869049188&type=hour&start=1435842000&end=1536069600\n",
      "http://history.openweathermap.org/data/2.5/history/city?lat=41.94547680819364&lon=-87.64356119421171&type=hour&start=1435842000&end=1536069600\n",
      "http://history.openweathermap.org/data/2.5/history/city?lat=41.9328100477654&lon=-87.67541901612356&type=hour&start=1435842000&end=1536069600\n",
      "http://history.openweathermap.org/data/2.5/history/city?lat=41.92992717165378&lon=-87.66187217751164&type=hour&start=1435842000&end=1536069600\n",
      "http://history.openweathermap.org/data/2.5/history/city?lat=41.936566710368616&lon=-87.6551513220967&type=hour&start=1435842000&end=1536069600\n",
      "http://history.openweathermap.org/data/2.5/history/city?lat=41.936632818239346&lon=-87.6420871837414&type=hour&start=1435842000&end=1536069600\n",
      "http://history.openweathermap.org/data/2.5/history/city?lat=41.92845193932505&lon=-87.64188761659187&type=hour&start=1435842000&end=1536069600\n",
      "http://history.openweathermap.org/data/2.5/history/city?lat=41.982882741666636&lon=-87.6960034521087&type=hour&start=1435842000&end=1536069600\n",
      "http://history.openweathermap.org/data/2.5/history/city?lat=41.98354569650109&lon=-87.67483634846579&type=hour&start=1435842000&end=1536069600\n",
      "http://history.openweathermap.org/data/2.5/history/city?lat=41.984770532263354&lon=-87.66401097711923&type=hour&start=1435842000&end=1536069600\n",
      "http://history.openweathermap.org/data/2.5/history/city?lat=41.985934891671576&lon=-87.65627726757262&type=hour&start=1435842000&end=1536069600\n",
      "http://history.openweathermap.org/data/2.5/history/city?lat=41.98012545324171&lon=-87.65670776329668&type=hour&start=1435842000&end=1536069600\n",
      "http://history.openweathermap.org/data/2.5/history/city?lat=41.972970573621105&lon=-87.65294112568354&type=hour&start=1435842000&end=1536069600\n",
      "http://history.openweathermap.org/data/2.5/history/city?lat=41.97217543758927&lon=-87.69258880191063&type=hour&start=1435842000&end=1536069600\n",
      "http://history.openweathermap.org/data/2.5/history/city?lat=41.97196205263514&lon=-87.67346922270283&type=hour&start=1435842000&end=1536069600\n",
      "http://history.openweathermap.org/data/2.5/history/city?lat=41.97280392762758&lon=-87.66114547561224&type=hour&start=1435842000&end=1536069600\n",
      "http://history.openweathermap.org/data/2.5/history/city?lat=41.69771489063749&lon=-87.70447951619973&type=hour&start=1435842000&end=1536069600\n",
      "http://history.openweathermap.org/data/2.5/history/city?lat=41.69337894263204&lon=-87.67461917422574&type=hour&start=1435842000&end=1536069600\n",
      "http://history.openweathermap.org/data/2.5/history/city?lat=41.71571250812806&lon=-87.6675733230434&type=hour&start=1435842000&end=1536069600\n",
      "http://history.openweathermap.org/data/2.5/history/city?lat=41.72767807862591&lon=-87.6696626305853&type=hour&start=1435842000&end=1536069600\n",
      "http://history.openweathermap.org/data/2.5/history/city?lat=41.731579013393244&lon=-87.65219957732589&type=hour&start=1435842000&end=1536069600\n",
      "http://history.openweathermap.org/data/2.5/history/city?lat=41.72386971151078&lon=-87.64277300381278&type=hour&start=1435842000&end=1536069600\n",
      "http://history.openweathermap.org/data/2.5/history/city?lat=41.71018340101192&lon=-87.6440870326341&type=hour&start=1435842000&end=1536069600\n",
      "http://history.openweathermap.org/data/2.5/history/city?lat=41.69469259837261&lon=-87.64088805877354&type=hour&start=1435842000&end=1536069600\n",
      "http://history.openweathermap.org/data/2.5/history/city?lat=41.68647300021243&lon=-87.65940561220974&type=hour&start=1435842000&end=1536069600\n",
      "http://history.openweathermap.org/data/2.5/history/city?lat=42.01258225619018&lon=-87.69401463136339&type=hour&start=1435842000&end=1536069600\n",
      "http://history.openweathermap.org/data/2.5/history/city?lat=41.99947224082246&lon=-87.6922880580932&type=hour&start=1435842000&end=1536069600\n",
      "http://history.openweathermap.org/data/2.5/history/city?lat=41.99402612506317&lon=-87.69305309452199&type=hour&start=1435842000&end=1536069600\n",
      "http://history.openweathermap.org/data/2.5/history/city?lat=42.01920858372456&lon=-87.67026405559824&type=hour&start=1435842000&end=1536069600\n",
      "http://history.openweathermap.org/data/2.5/history/city?lat=42.01221522457919&lon=-87.66784074861386&type=hour&start=1435842000&end=1536069600\n",
      "http://history.openweathermap.org/data/2.5/history/city?lat=42.01271199472524&lon=-87.67891931533742&type=hour&start=1435842000&end=1536069600\n",
      "http://history.openweathermap.org/data/2.5/history/city?lat=42.0072171577377&lon=-87.66552915239343&type=hour&start=1435842000&end=1536069600\n",
      "http://history.openweathermap.org/data/2.5/history/city?lat=42.000841490987874&lon=-87.6657065407432&type=hour&start=1435842000&end=1536069600\n",
      "http://history.openweathermap.org/data/2.5/history/city?lat=41.99448178421243&lon=-87.66416191069895&type=hour&start=1435842000&end=1536069600\n",
      "http://history.openweathermap.org/data/2.5/history/city?lat=41.93464659531908&lon=-87.79291423326238&type=hour&start=1435842000&end=1536069600\n",
      "http://history.openweathermap.org/data/2.5/history/city?lat=41.92441951919134&lon=-87.78993943584578&type=hour&start=1435842000&end=1536069600\n",
      "http://history.openweathermap.org/data/2.5/history/city?lat=41.91076734404494&lon=-87.78957773492506&type=hour&start=1435842000&end=1536069600\n",
      "http://history.openweathermap.org/data/2.5/history/city?lat=41.933157003563636&lon=-87.76588324127204&type=hour&start=1435842000&end=1536069600\n",
      "http://history.openweathermap.org/data/2.5/history/city?lat=41.92217247084615&lon=-87.76483600999987&type=hour&start=1435842000&end=1536069600\n",
      "http://history.openweathermap.org/data/2.5/history/city?lat=41.9308382087398&lon=-87.74748757504105&type=hour&start=1435842000&end=1536069600\n",
      "http://history.openweathermap.org/data/2.5/history/city?lat=41.92072468118551&lon=-87.74442341856344&type=hour&start=1435842000&end=1536069600\n",
      "http://history.openweathermap.org/data/2.5/history/city?lat=41.93548446051548&lon=-87.7265104934463&type=hour&start=1435842000&end=1536069600\n",
      "http://history.openweathermap.org/data/2.5/history/city?lat=41.927139851826475&lon=-87.72729217974128&type=hour&start=1435842000&end=1536069600\n",
      "http://history.openweathermap.org/data/2.5/history/city?lat=41.92076212359625&lon=-87.72452693403717&type=hour&start=1435842000&end=1536069600\n",
      "http://history.openweathermap.org/data/2.5/history/city?lat=41.90811710360154&lon=-87.77041697992338&type=hour&start=1435842000&end=1536069600\n",
      "http://history.openweathermap.org/data/2.5/history/city?lat=41.908007165544966&lon=-87.76076475022941&type=hour&start=1435842000&end=1536069600\n",
      "http://history.openweathermap.org/data/2.5/history/city?lat=41.91023029253541&lon=-87.74597193630727&type=hour&start=1435842000&end=1536069600\n",
      "http://history.openweathermap.org/data/2.5/history/city?lat=41.90915668827221&lon=-87.73070427121874&type=hour&start=1435842000&end=1536069600\n",
      "http://history.openweathermap.org/data/2.5/history/city?lat=41.908435721795755&lon=-87.72239134780885&type=hour&start=1435842000&end=1536069600\n"
     ]
    }
   ],
   "source": [
    "#total_Beat defined above\n",
    "strt = \"1435842000\" #1435842000\n",
    "finish = \"1536069600\" #1536069600\n",
    "\n",
    "for cur_beat in tot_Beat:\n",
    "    lat = cur_beat.split(' ')[0][:-1]\n",
    "    long = cur_beat.split(' ')[1]\n",
    "    url_base = 'http://history.openweathermap.org/data/2.5/history/city?lat=%s&lon=%s&type=hour&start=%s&end=%s' % (lat, long, strt, finish)\n",
    "    print(url_base)"
   ]
  },
  {
   "cell_type": "code",
   "execution_count": null,
   "metadata": {},
   "outputs": [],
   "source": [
    "#DO ONE BASIC RUN AND APPEND THAT TO A CSV FILE AND SEE HOW THAT GOES"
   ]
  },
  {
   "cell_type": "code",
   "execution_count": null,
   "metadata": {},
   "outputs": [],
   "source": [
    "#DO ONE BASIC RUN AND APPEND THAT TO AWS AND SEE HOW THAT GOES"
   ]
  },
  {
   "cell_type": "code",
   "execution_count": null,
   "metadata": {},
   "outputs": [],
   "source": []
  },
  {
   "cell_type": "code",
   "execution_count": null,
   "metadata": {},
   "outputs": [],
   "source": []
  },
  {
   "cell_type": "code",
   "execution_count": null,
   "metadata": {},
   "outputs": [],
   "source": [
    "data.to_csv('Traffic_Crashes_-_Crashes.csv', encoding='utf-8', index=False)"
   ]
  },
  {
   "cell_type": "code",
   "execution_count": null,
   "metadata": {},
   "outputs": [],
   "source": [
    "import requests"
   ]
  },
  {
   "cell_type": "code",
   "execution_count": null,
   "metadata": {},
   "outputs": [],
   "source": [
    "url = 'https://api.darksky.net/forecast/64f78089d1fb61d22ce9dfeae0f23bc4/42.3601,-71.0589'\n",
    "response = requests.get(url)"
   ]
  },
  {
   "cell_type": "code",
   "execution_count": null,
   "metadata": {},
   "outputs": [],
   "source": [
    "page = response.text"
   ]
  },
  {
   "cell_type": "code",
   "execution_count": null,
   "metadata": {},
   "outputs": [],
   "source": [
    "page"
   ]
  }
 ],
 "metadata": {
  "kernelspec": {
   "display_name": "Python 3",
   "language": "python",
   "name": "python3"
  },
  "language_info": {
   "codemirror_mode": {
    "name": "ipython",
    "version": 3
   },
   "file_extension": ".py",
   "mimetype": "text/x-python",
   "name": "python",
   "nbconvert_exporter": "python",
   "pygments_lexer": "ipython3",
   "version": "3.6.5"
  }
 },
 "nbformat": 4,
 "nbformat_minor": 2
}
